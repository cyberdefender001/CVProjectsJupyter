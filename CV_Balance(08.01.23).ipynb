{
 "cells": [
  {
   "cell_type": "code",
   "outputs": [],
   "source": [
    "import cv2\n",
    "import mediapipe as mp\n",
    "import time\n",
    "import numpy as np\n",
    "import math\n",
    "mp_drawing = mp.solutions.drawing_utils\n",
    "mp_pose = mp.solutions.pose"
   ],
   "metadata": {
    "ExecuteTime": {
     "end_time": "2024-01-08T14:33:35.839051Z",
     "start_time": "2024-01-08T14:33:33.418395Z"
    }
   },
   "id": "774a3b60",
   "execution_count": 2
  },
  {
   "cell_type": "code",
   "execution_count": 3,
   "id": "4ebd52c1",
   "metadata": {
    "ExecuteTime": {
     "end_time": "2024-01-08T14:33:35.840476Z",
     "start_time": "2024-01-08T14:33:35.728112Z"
    }
   },
   "outputs": [],
   "source": [
    "def calculate_angle(a, b, c):\n",
    "    a = np.array(a)  # First\n",
    "    b = np.array(b)  # Mid\n",
    "    c = np.array(c)  # End\n",
    "\n",
    "    radians = np.arctan2(c[1] - b[1], c[0] - b[0]) - np.arctan2(a[1] - b[1], a[0] - b[0])\n",
    "    angle = np.abs(radians * 180.0 / np.pi)\n",
    "\n",
    "    if angle > 180.0:\n",
    "        angle = 360 - angle\n",
    "\n",
    "    return angle"
   ]
  },
  {
   "cell_type": "code",
   "outputs": [
    {
     "data": {
      "text/plain": "7.152557373046875e-07"
     },
     "execution_count": 5,
     "metadata": {},
     "output_type": "execute_result"
    }
   ],
   "source": [
    "def calculate_balance_time():\n",
    "    cap = cv2.VideoCapture(0)\n",
    "    balance_time = 0\n",
    "    start_time = None\n",
    "    standing = False\n",
    "    loop = False\n",
    "    done = False\n",
    "\n",
    "    with mp_pose.Pose(min_detection_confidence=0.5, min_tracking_confidence=0.5) as pose:\n",
    "        while cap.isOpened():\n",
    "            ret, frame = cap.read()\n",
    "\n",
    "            # Recolor image to RGB\n",
    "            image = cv2.cvtColor(frame, cv2.COLOR_BGR2RGB)\n",
    "            image.flags.writeable = False\n",
    "\n",
    "            # Make detection\n",
    "            results = pose.process(image)\n",
    "\n",
    "            # Recolor back to BGR\n",
    "            image.flags.writeable = True\n",
    "            image = cv2.cvtColor(image, cv2.COLOR_RGB2BGR)\n",
    "\n",
    "            # Extract landmarks\n",
    "            try:\n",
    "                landmarks = results.pose_landmarks.landmark\n",
    "\n",
    "                # Get coordinates\n",
    "                leftAnkle = [landmarks[mp_pose.PoseLandmark.LEFT_ANKLE.value].x,landmarks[mp_pose.PoseLandmark.LEFT_ANKLE.value].y]\n",
    "                rightAnkle = [landmarks[mp_pose.PoseLandmark.RIGHT_ANKLE.value].x,landmarks[mp_pose.PoseLandmark.RIGHT_ANKLE.value].y]\n",
    "                leftHip = [landmarks[mp_pose.PoseLandmark.LEFT_HIP.value].x,landmarks[mp_pose.PoseLandmark.LEFT_HIP.value].y]\n",
    "                rightHip = [landmarks[mp_pose.PoseLandmark.RIGHT_HIP.value].x,landmarks[mp_pose.PoseLandmark.RIGHT_HIP.value].y]\n",
    "                leftKnee = [landmarks[mp_pose.PoseLandmark.LEFT_KNEE.value].x,landmarks[mp_pose.PoseLandmark.LEFT_KNEE.value].y]\n",
    "                rightKnee = [landmarks[mp_pose.PoseLandmark.RIGHT_KNEE.value].x,landmarks[mp_pose.PoseLandmark.RIGHT_KNEE.value].y]\n",
    "                leftShoulder = [landmarks[mp_pose.PoseLandmark.LEFT_SHOULDER.value].x,landmarks[mp_pose.PoseLandmark.LEFT_SHOULDER.value].y]\n",
    "                rightShoulder = [landmarks[mp_pose.PoseLandmark.RIGHT_SHOULDER.value].x,landmarks[mp_pose.PoseLandmark.RIGHT_SHOULDER.value].y]\n",
    "\n",
    "                # Calculate angle\n",
    "                angle1 = calculate_angle(rightHip, rightKnee, rightAnkle)\n",
    "                angle2 = calculate_angle(leftHip, leftKnee, leftAnkle)\n",
    "\n",
    "                # Calculate balance time\n",
    "\n",
    "                if abs(leftAnkle[1] - rightAnkle[1]) > 0.05:\n",
    "                    balance_time = 0\n",
    "                    while not standing:\n",
    "                        standing = True\n",
    "                        start_time = time.time()\n",
    "                        \n",
    "                balance_time = time.time() - start_time\n",
    "                if ((angle2 < 160 and angle1 < 160) or ((leftShoulder[0] < (rightHip[0]) or (rightShoulder[0] > leftHip[0])))):\n",
    "                    if standing:\n",
    "                        standing = False\n",
    "                        balance_time = time.time() - start_time\n",
    "                        start_time = None\n",
    "                if balance_time > 60:\n",
    "                    #cv2.putText(image, \"Congratulations\", (10, 30), cv2.FONT_HERSHEY_SIMPLEX, 0.7, (0, 0, 255), 2)\n",
    "                    balance_time = 0\n",
    "                    start_time = None\n",
    "                    standing = False\n",
    "                    done = True\n",
    "                    \n",
    "                if ((abs(leftAnkle[1] - rightAnkle[1]) <= 0.05)):\n",
    "                    if standing:\n",
    "                        standing = False\n",
    "                        balance_time = time.time() - start_time\n",
    "                        start_time = None\n",
    "\n",
    "                \n",
    "                balance_time = time.time() - start_time\n",
    "            except:\n",
    "                pass\n",
    "\n",
    "            # Render detections\n",
    "            mp_drawing.draw_landmarks(image, results.pose_landmarks, mp_pose.POSE_CONNECTIONS,\n",
    "                                      mp_drawing.DrawingSpec(color=(245,117,66), thickness=2, circle_radius=2),\n",
    "                                      mp_drawing.DrawingSpec(color=(245,66,230), thickness=2, circle_radius=2)\n",
    "                                      )\n",
    "\n",
    "            # Display balance time\n",
    "            if not done:\n",
    "                cv2.putText(image, \"Balance time: \" + str(round(balance_time, 2)), (10, 30), cv2.FONT_HERSHEY_SIMPLEX, 0.7, (0, 0, 255), 2)\n",
    "            if done:\n",
    "                cv2.putText(image, \"Congratulations \" + str(round(balance_time, 2)), (10, 30), cv2.FONT_HERSHEY_SIMPLEX, 0.7, (0, 0, 255), 2)\n",
    "                break\n",
    "            cv2.imshow('Mediapipe Feed', image)\n",
    "\n",
    "            if cv2.waitKey(10) & 0xFF == ord('q'):\n",
    "                break\n",
    "\n",
    "        cap.release()\n",
    "        cv2.destroyAllWindows()\n",
    "\n",
    "    return balance_time\n",
    "\n",
    "calculate_balance_time()"
   ],
   "metadata": {
    "collapsed": false,
    "ExecuteTime": {
     "end_time": "2024-01-08T14:34:39.350701Z",
     "start_time": "2024-01-08T14:33:46.401309Z"
    }
   },
   "id": "985ef92d0411af0c",
   "execution_count": 5
  },
  {
   "cell_type": "code",
   "outputs": [],
   "source": [],
   "metadata": {
    "collapsed": false
   },
   "id": "b4ccbe56730cb84c"
  }
 ],
 "metadata": {
  "kernelspec": {
   "display_name": "Python 3 (ipykernel)",
   "language": "python",
   "name": "python3"
  },
  "language_info": {
   "codemirror_mode": {
    "name": "ipython",
    "version": 3
   },
   "file_extension": ".py",
   "mimetype": "text/x-python",
   "name": "python",
   "nbconvert_exporter": "python",
   "pygments_lexer": "ipython3",
   "version": "3.10.9"
  }
 },
 "nbformat": 4,
 "nbformat_minor": 5
}
